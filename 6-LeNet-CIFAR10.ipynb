{
 "cells": [
  {
   "cell_type": "markdown",
   "metadata": {},
   "source": [
    "### LeNet with CIFAR10"
   ]
  },
  {
   "cell_type": "code",
   "execution_count": 1,
   "metadata": {},
   "outputs": [],
   "source": [
    "%matplotlib inline\n",
    "import torch\n",
    "import torch.nn as nn\n",
    "import torch.nn.functional as F\n",
    "import numpy as np\n",
    "from torchvision import transforms,datasets\n",
    "import torch.optim as optim\n",
    "from torch.autograd import Variable\n",
    "import matplotlib.pyplot as plt\n",
    "import torchvision\n",
    "\n",
    "import copy\n",
    "import time"
   ]
  },
  {
   "cell_type": "code",
   "execution_count": 2,
   "metadata": {},
   "outputs": [
    {
     "name": "stdout",
     "output_type": "stream",
     "text": [
      "Downloading https://www.cs.toronto.edu/~kriz/cifar-10-python.tar.gz to ./CIFAR10/cifar-10-python.tar.gz\n",
      "Files already downloaded and verified\n"
     ]
    }
   ],
   "source": [
    "apply_transform = transforms.Compose([transforms.Resize(32),transforms.ToTensor()])\n",
    "BatchSize = 100\n",
    "\n",
    "trainset = datasets.CIFAR10(root='./CIFAR10', train=True, download=True, transform=apply_transform)\n",
    "trainLoader = torch.utils.data.DataLoader(trainset, batch_size=BatchSize,\n",
    "                                          shuffle=True, num_workers=4) # Creating dataloader\n",
    "\n",
    "testset = datasets.CIFAR10(root='./CIFAR10', train=False, download=True, transform=apply_transform)\n",
    "testLoader = torch.utils.data.DataLoader(testset, batch_size=BatchSize,\n",
    "                                         shuffle=False, num_workers=4) # Creating dataloader"
   ]
  },
  {
   "cell_type": "code",
   "execution_count": 3,
   "metadata": {},
   "outputs": [
    {
     "name": "stdout",
     "output_type": "stream",
     "text": [
      "No. of samples in train set: 50000\n",
      "No. of samples in test set: 10000\n"
     ]
    }
   ],
   "source": [
    "# Size of train and test datasets\n",
    "print('No. of samples in train set: '+str(len(trainLoader.dataset)))\n",
    "print('No. of samples in test set: '+str(len(testLoader.dataset)))"
   ]
  },
  {
   "cell_type": "markdown",
   "metadata": {},
   "source": [
    "### Network Architecture"
   ]
  },
  {
   "cell_type": "code",
   "execution_count": 4,
   "metadata": {},
   "outputs": [],
   "source": [
    "class LeNet(nn.Module):\n",
    "    def __init__(self):\n",
    "        super(LeNet, self).__init__()\n",
    "        self.conv1 = nn.Conv2d(3, 6, 5)\n",
    "        self.pool = nn.MaxPool2d(2, 2)\n",
    "        self.conv2 = nn.Conv2d(6, 16, 5)\n",
    "        self.fc1 = nn.Linear(16 * 5 * 5, 120)\n",
    "        self.fc2 = nn.Linear(120, 84)\n",
    "        self.fc3 = nn.Linear(84, 10)\n",
    "\n",
    "    def forward(self, x):\n",
    "        x = self.pool(F.relu(self.conv1(x)))\n",
    "        x = self.pool(F.relu(self.conv2(x)))\n",
    "        x = x.view(-1, 16 * 5 * 5)\n",
    "        x = F.relu(self.fc1(x))\n",
    "        x = F.relu(self.fc2(x))\n",
    "        x = self.fc3(x)\n",
    "        return F.log_softmax(x)"
   ]
  },
  {
   "cell_type": "code",
   "execution_count": 5,
   "metadata": {},
   "outputs": [
    {
     "name": "stdout",
     "output_type": "stream",
     "text": [
      "LeNet(\n",
      "  (conv1): Conv2d(3, 6, kernel_size=(5, 5), stride=(1, 1))\n",
      "  (pool): MaxPool2d(kernel_size=(2, 2), stride=(2, 2), dilation=(1, 1), ceil_mode=False)\n",
      "  (conv2): Conv2d(6, 16, kernel_size=(5, 5), stride=(1, 1))\n",
      "  (fc1): Linear(in_features=400, out_features=120, bias=True)\n",
      "  (fc2): Linear(in_features=120, out_features=84, bias=True)\n",
      "  (fc3): Linear(in_features=84, out_features=10, bias=True)\n",
      ")\n"
     ]
    }
   ],
   "source": [
    "net = LeNet()\n",
    "print(net)"
   ]
  },
  {
   "cell_type": "code",
   "execution_count": 6,
   "metadata": {},
   "outputs": [
    {
     "name": "stdout",
     "output_type": "stream",
     "text": [
      "GPU is available!\n"
     ]
    }
   ],
   "source": [
    "# Check availability of GPU\n",
    "use_gpu = torch.cuda.is_available()\n",
    "if use_gpu:\n",
    "    print('GPU is available!')   \n",
    "    net = net.cuda()"
   ]
  },
  {
   "cell_type": "code",
   "execution_count": 7,
   "metadata": {},
   "outputs": [],
   "source": [
    "criterion = nn.NLLLoss() # Negative Log-likelihood\n",
    "optimizer = optim.Adam(net.parameters(), lr=1e-4) # Adam"
   ]
  },
  {
   "cell_type": "markdown",
   "metadata": {},
   "source": [
    "### Train the Network"
   ]
  },
  {
   "cell_type": "code",
   "execution_count": 8,
   "metadata": {},
   "outputs": [
    {
     "name": "stderr",
     "output_type": "stream",
     "text": [
      "/usr/local/lib/python3.6/dist-packages/ipykernel_launcher.py:18: UserWarning: Implicit dimension choice for log_softmax has been deprecated. Change the call to include dim=X as an argument.\n"
     ]
    },
    {
     "name": "stdout",
     "output_type": "stream",
     "text": [
      "Iteration: 1 /30  ;  Training Loss: 0.021079 ; Testing Acc: 30.410 ; Time consumed: 0m 7s \n",
      "Iteration: 2 /30  ;  Training Loss: 0.018397 ; Testing Acc: 35.100 ; Time consumed: 0m 5s \n",
      "Iteration: 3 /30  ;  Training Loss: 0.017420 ; Testing Acc: 38.180 ; Time consumed: 0m 5s \n",
      "Iteration: 4 /30  ;  Training Loss: 0.016823 ; Testing Acc: 40.080 ; Time consumed: 0m 5s \n",
      "Iteration: 5 /30  ;  Training Loss: 0.016358 ; Testing Acc: 40.800 ; Time consumed: 0m 5s \n",
      "Iteration: 6 /30  ;  Training Loss: 0.015942 ; Testing Acc: 42.310 ; Time consumed: 0m 5s \n",
      "Iteration: 7 /30  ;  Training Loss: 0.015560 ; Testing Acc: 43.520 ; Time consumed: 0m 5s \n",
      "Iteration: 8 /30  ;  Training Loss: 0.015266 ; Testing Acc: 44.320 ; Time consumed: 0m 5s \n",
      "Iteration: 9 /30  ;  Training Loss: 0.014991 ; Testing Acc: 46.100 ; Time consumed: 0m 5s \n",
      "Iteration: 10 /30  ;  Training Loss: 0.014730 ; Testing Acc: 46.760 ; Time consumed: 0m 5s \n",
      "Iteration: 11 /30  ;  Training Loss: 0.014558 ; Testing Acc: 47.160 ; Time consumed: 0m 5s \n",
      "Iteration: 12 /30  ;  Training Loss: 0.014390 ; Testing Acc: 47.190 ; Time consumed: 0m 5s \n",
      "Iteration: 13 /30  ;  Training Loss: 0.014237 ; Testing Acc: 48.470 ; Time consumed: 0m 5s \n",
      "Iteration: 14 /30  ;  Training Loss: 0.014091 ; Testing Acc: 48.950 ; Time consumed: 0m 5s \n",
      "Iteration: 15 /30  ;  Training Loss: 0.013985 ; Testing Acc: 48.600 ; Time consumed: 0m 5s \n",
      "Iteration: 16 /30  ;  Training Loss: 0.013852 ; Testing Acc: 49.900 ; Time consumed: 0m 5s \n",
      "Iteration: 17 /30  ;  Training Loss: 0.013745 ; Testing Acc: 49.720 ; Time consumed: 0m 5s \n",
      "Iteration: 18 /30  ;  Training Loss: 0.013631 ; Testing Acc: 50.740 ; Time consumed: 0m 5s \n",
      "Iteration: 19 /30  ;  Training Loss: 0.013508 ; Testing Acc: 50.910 ; Time consumed: 0m 5s \n",
      "Iteration: 20 /30  ;  Training Loss: 0.013410 ; Testing Acc: 51.400 ; Time consumed: 0m 5s \n",
      "Iteration: 21 /30  ;  Training Loss: 0.013306 ; Testing Acc: 50.980 ; Time consumed: 0m 5s \n",
      "Iteration: 22 /30  ;  Training Loss: 0.013208 ; Testing Acc: 52.150 ; Time consumed: 0m 5s \n",
      "Iteration: 23 /30  ;  Training Loss: 0.013129 ; Testing Acc: 52.540 ; Time consumed: 0m 5s \n",
      "Iteration: 24 /30  ;  Training Loss: 0.013017 ; Testing Acc: 52.580 ; Time consumed: 0m 5s \n",
      "Iteration: 25 /30  ;  Training Loss: 0.012965 ; Testing Acc: 52.060 ; Time consumed: 0m 5s \n",
      "Iteration: 26 /30  ;  Training Loss: 0.012871 ; Testing Acc: 52.940 ; Time consumed: 0m 5s \n",
      "Iteration: 27 /30  ;  Training Loss: 0.012789 ; Testing Acc: 53.710 ; Time consumed: 0m 5s \n",
      "Iteration: 28 /30  ;  Training Loss: 0.012717 ; Testing Acc: 52.930 ; Time consumed: 0m 5s \n",
      "Iteration: 29 /30  ;  Training Loss: 0.012674 ; Testing Acc: 53.660 ; Time consumed: 0m 5s \n",
      "Iteration: 30 /30  ;  Training Loss: 0.012577 ; Testing Acc: 53.030 ; Time consumed: 0m 5s \n",
      "Training completed in 2m 36s\n"
     ]
    },
    {
     "data": {
      "image/png": "[encoded data removed]",
      "text/plain": [
       "<Figure size 432x288 with 1 Axes>"
      ]
     },
     "metadata": {},
     "output_type": "display_data"
    },
    {
     "data": {
      "image/png": "[encoded data removed]",
      "text/plain": [
       "<Figure size 432x288 with 1 Axes>"
      ]
     },
     "metadata": {},
     "output_type": "display_data"
    }
   ],
   "source": [
    "iterations = 30\n",
    "trainLoss = []\n",
    "testAcc = []\n",
    "start = time.time()\n",
    "for epoch in range(iterations):\n",
    "    epochStart = time.time()\n",
    "    runningLoss = 0    \n",
    "    net.train(True) # For training\n",
    "    for data in trainLoader:\n",
    "        inputs,labels = data\n",
    "        # Wrap them in Variable\n",
    "        if use_gpu:\n",
    "            inputs, labels = Variable(inputs.cuda()), \\\n",
    "                Variable(labels.cuda())\n",
    "        else:\n",
    "            inputs, labels = Variable(inputs), Variable(labels)  \n",
    "       \n",
    "        # Initialize gradients to zero\n",
    "        optimizer.zero_grad()\n",
    "        # Feed-forward input data through the network        \n",
    "        outputs = net(inputs)        \n",
    "        # Compute loss/error\n",
    "        loss = criterion(outputs, labels)\n",
    "        # Backpropagate loss and compute gradients\n",
    "        loss.backward()\n",
    "        # Update the network parameters\n",
    "        optimizer.step()\n",
    "        # Accumulate loss per batch\n",
    "        runningLoss += loss.data[0]    \n",
    "    avgTrainLoss = runningLoss/50000.0\n",
    "    trainLoss.append(avgTrainLoss)\n",
    "    \n",
    "    # Evaluating performance on test set for each epoch\n",
    "    net.train(False) # For testing [Affects batch-norm and dropout layers (if any)]\n",
    "    running_correct = 0\n",
    "    for data in testLoader:\n",
    "        inputs,labels = data\n",
    "        # Wrap them in Variable\n",
    "        if use_gpu:\n",
    "            inputs = Variable(inputs.cuda())\n",
    "            outputs = net(inputs)\n",
    "            _, predicted = torch.max(outputs.data, 1)\n",
    "            predicted = predicted.cpu()\n",
    "        else:\n",
    "            inputs = Variable(inputs)\n",
    "            outputs = net(inputs)\n",
    "            _, predicted = torch.max(outputs.data, 1)\n",
    "        running_correct += (predicted == labels).sum()\n",
    "    avgTestAcc = running_correct/10000.0\n",
    "    testAcc.append(avgTestAcc)\n",
    "        \n",
    "    # Plotting training loss vs Epochs\n",
    "    fig1 = plt.figure(1)        \n",
    "    plt.plot(range(epoch+1),trainLoss,'r-',label='train')        \n",
    "    if epoch==0:\n",
    "        plt.legend(loc='upper left')\n",
    "        plt.xlabel('Epochs')\n",
    "        plt.ylabel('Training loss')   \n",
    "    # Plotting testing accuracy vs Epochs\n",
    "    fig2 = plt.figure(2)        \n",
    "    plt.plot(range(epoch+1),testAcc,'g-',label='test')        \n",
    "    if epoch==0:\n",
    "        plt.legend(loc='upper left')\n",
    "        plt.xlabel('Epochs')\n",
    "        plt.ylabel('Testing accuracy')    \n",
    "    epochEnd = time.time()-epochStart\n",
    "    print('Iteration: {:.0f} /{:.0f}  ;  Training Loss: {:.6f} ; Testing Acc: {:.3f} ; Time consumed: {:.0f}m {:.0f}s '\\\n",
    "          .format(epoch + 1,iterations,avgTrainLoss,avgTestAcc*100,epochEnd//60,epochEnd%60))\n",
    "end = time.time()-start\n",
    "print('Training completed in {:.0f}m {:.0f}s'.format(end//60,end%60))"
   ]
  },
  {
   "cell_type": "code",
   "execution_count": null,
   "metadata": {},
   "outputs": [],
   "source": []
  }
 ],
 "metadata": {
  "kernelspec": {
   "display_name": "Python 3",
   "language": "python",
   "name": "python3"
  },
  "language_info": {
   "codemirror_mode": {
    "name": "ipython",
    "version": 3
   },
   "file_extension": ".py",
   "mimetype": "text/x-python",
   "name": "python",
   "nbconvert_exporter": "python",
   "pygments_lexer": "ipython3",
   "version": "3.6.5"
  }
 },
 "nbformat": 4,
 "nbformat_minor": 2
}
